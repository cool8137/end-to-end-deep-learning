{
 "cells": [
  {
   "cell_type": "markdown",
   "metadata": {},
   "source": [
    "# Load and Access the Raw Data\n",
    "\n",
    "Load the Airbnb dataset into a pandas DataFrame.\n",
    "\n",
    "Examine the DataFrame and determine which of the columns belong in one of the following categories:\n",
    "* Categorical: the column contains a fixed number of distinct values\n",
    "* Continuous: the column contains numerical values\n",
    "* Text: the column contains free-form text\n",
    "\n",
    "Complete a basic assessment of the dataset. For each column in the dataset, you want to get a count of:\n",
    "* missing values — You can use the pandas isnull() function to find missing values.\n",
    "* Invalid values (for example, negative values in continuous columns and latitude/longitude values that are outside of New York City)\n",
    "\n",
    "The number of distinct values in each of the categorical columns\n",
    "\n",
    "Save the DataFrame to a pickle file so that you can examine it again in another Python session."
   ]
  },
  {
   "cell_type": "code",
   "execution_count": 1,
   "metadata": {},
   "outputs": [],
   "source": [
    "import numpy as np\n",
    "import pandas as pd\n"
   ]
  },
  {
   "cell_type": "code",
   "execution_count": null,
   "metadata": {},
   "outputs": [],
   "source": []
  }
 ],
 "metadata": {
  "kernelspec": {
   "display_name": ".venv",
   "language": "python",
   "name": "python3"
  },
  "language_info": {
   "codemirror_mode": {
    "name": "ipython",
    "version": 3
   },
   "file_extension": ".py",
   "mimetype": "text/x-python",
   "name": "python",
   "nbconvert_exporter": "python",
   "pygments_lexer": "ipython3",
   "version": "3.11.4"
  },
  "orig_nbformat": 4
 },
 "nbformat": 4,
 "nbformat_minor": 2
}
